{
 "cells": [
  {
   "cell_type": "code",
   "execution_count": null,
   "id": "8b1f064b-9b28-40ce-8ceb-89bc14eb4a1f",
   "metadata": {},
   "outputs": [],
   "source": []
  }
 ],
 "metadata": {
  "kernelspec": {
   "display_name": "Python 3 (ipykernel)",
   "language": "python",
   "name": "python3"
  },
  "language_info": {
   "name": ""
  }
 },
 "nbformat": 4,
 "nbformat_minor": 5
}
