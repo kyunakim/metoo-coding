{
 "cells": [
  {
   "cell_type": "markdown",
   "id": "1f51a832-ae45-4a7d-8cac-d23e67efc066",
   "metadata": {},
   "source": [
    "본 자료는 다음 링크의 내용을 참고하였습니다.\n",
    "\n",
    "- Reference : https://www.kaggle.com/code/ibtesama/getting-started-with-a-movie-recommendation-system"
   ]
  },
  {
   "cell_type": "markdown",
   "id": "8ce659dc-35a7-414b-867c-a96f11a3e07c",
   "metadata": {},
   "source": [
    "# 영화 추천 시스템"
   ]
  },
  {
   "cell_type": "markdown",
   "id": "0a590f3e-58ee-4c06-b555-34da33cfe48a",
   "metadata": {},
   "source": [
    "1. Demographic Filtering (인구통계학적 필터링)\n",
    "1. Content Based Filtering (컨텐츠 기반 필터링)\n",
    "1. Collaborative Filtering (협업 필터링)"
   ]
  },
  {
   "cell_type": "markdown",
   "id": "389d8c1b-9d9b-45f2-8551-f2967b8c34c5",
   "metadata": {},
   "source": [
    "## 1. Demographic Filtering (인구통계학적 필터링)"
   ]
  },
  {
   "cell_type": "code",
   "execution_count": null,
   "id": "fea27565-9b5c-452a-a583-22939a69901e",
   "metadata": {},
   "outputs": [],
   "source": []
  }
 ],
 "metadata": {
  "kernelspec": {
   "display_name": "Python 3 (ipykernel)",
   "language": "python",
   "name": "python3"
  },
  "language_info": {
   "codemirror_mode": {
    "name": "ipython",
    "version": 3
   },
   "file_extension": ".py",
   "mimetype": "text/x-python",
   "name": "python",
   "nbconvert_exporter": "python",
   "pygments_lexer": "ipython3",
   "version": "3.9.12"
  }
 },
 "nbformat": 4,
 "nbformat_minor": 5
}
