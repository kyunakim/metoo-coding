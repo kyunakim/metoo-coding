{
 "cells": [
  {
   "cell_type": "code",
   "execution_count": 1,
   "id": "7faf8e1d-b07c-4d25-b4f6-4eb492e5a175",
   "metadata": {},
   "outputs": [],
   "source": [
    "import requests\n",
    "import re\n",
    "from bs4 import BeautifulSoup"
   ]
  },
  {
   "cell_type": "code",
   "execution_count": 2,
   "id": "02a8bd59-7206-4340-9e75-ddd2a6c525b6",
   "metadata": {},
   "outputs": [],
   "source": [
    "#headers = {\"User-Agent\":\"Mozilla/5.0 (Macintosh; Intel Mac OS X 10_15_7) AppleWebKit/537.36 (KHTML, like Gecko) Chrome/103.0.0.0 Safari/537.36\"}"
   ]
  },
  {
   "cell_type": "code",
   "execution_count": 3,
   "id": "149233be-da27-459f-a5af-4e8613564ddc",
   "metadata": {},
   "outputs": [],
   "source": [
    "url =\"https://www.coupang.com/np/search?q=%EB%85%B8%ED%8A%B8%EB%B6%81&channel=user&component=&eventCategory=SRP&trcid=&traid=&sorter=scoreDesc&minPrice=&maxPrice=&priceRange=&filterType=&listSize=36&filter=&isPriceRange=false&brand=&offerCondition=&rating=0&page=1&rocketAll=false&searchIndexingToken=1=5&backgroundColor=\""
   ]
  },
  {
   "cell_type": "code",
   "execution_count": null,
   "id": "ea611c6e-fa5b-421b-bf5a-3daa21c352f1",
   "metadata": {},
   "outputs": [],
   "source": [
    "res = requests.get(url)\n",
    "res.raise_for_status()\n",
    "soup = BeautifulSoup(res.text,'lxml')"
   ]
  },
  {
   "cell_type": "code",
   "execution_count": null,
   "id": "37f2711b-7397-43da-b7ec-1b779096c0c3",
   "metadata": {},
   "outputs": [],
   "source": [
    "items = soup.find_all(\"li\",attrs={\"class\":re.compile(\"^search-product\")})"
   ]
  },
  {
   "cell_type": "code",
   "execution_count": null,
   "id": "d3a421ec-19cc-4ff1-aff4-7fdb5c491c53",
   "metadata": {},
   "outputs": [],
   "source": [
    "items[0].find(\"div\",attrs={\"class\":\"name\"}).get_text()"
   ]
  },
  {
   "cell_type": "code",
   "execution_count": null,
   "id": "bc7c229e-30bc-4c11-aeff-45ded529c220",
   "metadata": {},
   "outputs": [],
   "source": [
    "for item in items:\n",
    "    name = item.find(\"div\",attrs={\"class\":\"name\"}).get_text() #제품명\n",
    "    price = item.find(\"strong\",attrs={\"class\":\"price-value\"}).get_text() #가격\n",
    "    rate = item.find(\"em\",attrs={\"class\":\"rating\"}).get_text() #평점\n",
    "    rate_cnt = item.find(\"span\",attrs={\"class\":\"rating-total-count\"}).get_text() #평점 수"
   ]
  },
  {
   "cell_type": "code",
   "execution_count": null,
   "id": "a25f54ca-8d23-4102-9add-d443cfa3fba1",
   "metadata": {},
   "outputs": [],
   "source": [
    "print(name, price, rate, rate_cnt)"
   ]
  },
  {
   "cell_type": "code",
   "execution_count": null,
   "id": "735e1d1a-70a9-4f23-8f1b-d21953b21975",
   "metadata": {},
   "outputs": [],
   "source": [
    "for item in items:\n",
    "    name = item.find(\"div\",attrs={\"class\":\"name\"}).get_text() #제품명\n",
    "    price = item.find(\"strong\",attrs={\"class\":\"price-value\"}).get_text() #가격\n",
    "    \n",
    "    rate = item.find(\"em\",attrs={\"class\":\"rating\"}) #평점\n",
    "    if rate:\n",
    "        rate = rate.get_text()\n",
    "    else:\n",
    "        rate = \"평점 없음\"\n",
    "    \n",
    "    rate_cnt = item.find(\"span\",attrs={\"class\":\"rating-total-count\"}) #평점 수\n",
    "    if rate_cnt:\n",
    "        rate_cnt = rate_cnt.get_text()\n",
    "    else:\n",
    "        rate_cnt = \"평점 수 없음\"   "
   ]
  },
  {
   "cell_type": "code",
   "execution_count": null,
   "id": "23b42eac-6958-4b51-a348-44ebdcd9d7cf",
   "metadata": {},
   "outputs": [],
   "source": [
    "print(name, price, rate, rate_cnt)"
   ]
  },
  {
   "cell_type": "code",
   "execution_count": null,
   "id": "4e59e79a-267f-4ed8-8a0b-32ed021e57c2",
   "metadata": {},
   "outputs": [],
   "source": [
    "for item in items:\n",
    "    \n",
    "    # 광고 제품은 제외\n",
    "    ad_badge = item.find(\"span\",attrx{\"class\":\"ad-badge-text\"})\n",
    "    if ad_badge:\n",
    "        print(\" <광고 상품 제외합니다>\")\n",
    "        continue\n",
    "        \n",
    "    name = item.find(\"div\",attrs={\"class\":\"name\"}).get_text() #제품명\n",
    "    \n",
    "    \n",
    "    # 애플 제품 제외\n",
    "    if \"Apple\" in name:\n",
    "        print(\" <Apple 상품 제외합니다>\")\n",
    "        continue\n",
    "    \n",
    "    price = item.find(\"strong\",attrs={\"class\":\"price-value\"}).get_text() #가격\n",
    "    \n",
    "    # 리뷰 100개 이상, 평점 4.5 이상 되는 것만 조회\n",
    "    rate = item.find(\"em\",attrs={\"class\":\"rating\"}) #평점\n",
    "    if rate:\n",
    "        rate = rate.get_text()\n",
    "    else:\n",
    "        print(\" <평점 없는 상품 제외합니다>\")\n",
    "        continue\n",
    "    \n",
    "    rate_cnt = item.find(\"span\",attrs={\"class\":\"rating-total-count\"}) #평점 수\n",
    "    if rate_cnt:\n",
    "        rate_cnt = rate_cnt.get_text() #예 : (26)\n",
    "        rate_cnt = rate_cnt[1:-1]\n",
    "        print(\"리뷰 수\",rate_cnt)\n",
    "    else:\n",
    "        print(\" <평점 수 없는 상품 제외합니다>\")\n",
    "        continue\n",
    "    \n",
    "    if float(rate) >= 4.5 and int(rate_cnt) >= 100:\n",
    "        print(name, price, rate, rate_cnt)"
   ]
  },
  {
   "cell_type": "code",
   "execution_count": null,
   "id": "5094130f-45a7-4ffd-9cc2-9ca911210a39",
   "metadata": {},
   "outputs": [],
   "source": [
    "# 페이지 넘기기"
   ]
  },
  {
   "cell_type": "code",
   "execution_count": null,
   "id": "3704c77d-b637-4a40-8bdc-99eada1c32ca",
   "metadata": {},
   "outputs": [],
   "source": [
    "import requests\n",
    "import re\n",
    "from bs4 import BeautifulSoup"
   ]
  },
  {
   "cell_type": "code",
   "execution_count": null,
   "id": "ef3f615f-1b44-41a3-9dbe-2137083077a4",
   "metadata": {},
   "outputs": [],
   "source": [
    "#headers = {\"User-Agent\":\"Mozilla/5.0 (Macintosh; Intel Mac OS X 10_15_7) AppleWebKit/537.36 (KHTML, like Gecko) Chrome/103.0.0.0 Safari/537.36\"}"
   ]
  },
  {
   "cell_type": "code",
   "execution_count": null,
   "id": "caa9b20e-e119-470d-a897-d459e86ccf5a",
   "metadata": {},
   "outputs": [],
   "source": [
    "for i in range(1,6):\n",
    "    print(\"페이지 :\", i)\n",
    "    url =\"https://www.coupang.com/np/search?q=%EB%85%B8%ED%8A%B8%EB%B6%81&channel=user&component=&eventCategory=SRP&trcid=&traid=&sorter=scoreDesc&minPrice=&maxPrice=&priceRange=&filterType=&listSize=36&filter=&isPriceRange=false&brand=&offerCondition=&rating=0&page={}&rocketAll=false&searchIndexingToken=1=5&backgroundColor=\".format(i)"
   ]
  },
  {
   "cell_type": "code",
   "execution_count": null,
   "id": "7ec5d1ff-0f8f-4fe6-9407-67c0fb8a9ba1",
   "metadata": {},
   "outputs": [],
   "source": [
    "res = requests.get(url)\n",
    "res.raise_for_status()\n",
    "soup = BeautifulSoup(res.text,'lxml')"
   ]
  },
  {
   "cell_type": "code",
   "execution_count": null,
   "id": "b6430758-bec6-4151-b847-a83d680837b7",
   "metadata": {},
   "outputs": [],
   "source": [
    "items = soup.find_all(\"li\",attrs={\"class\":re.compile(\"^search-product\")})"
   ]
  },
  {
   "cell_type": "code",
   "execution_count": null,
   "id": "297d4df4-cb24-499e-904c-419c2f5a478d",
   "metadata": {},
   "outputs": [],
   "source": [
    "for item in items:\n",
    "    \n",
    "    # 광고 제품은 제외\n",
    "    ad_badge = item.find(\"span\",attrx{\"class\":\"ad-badge-text\"})\n",
    "    if ad_badge:\n",
    "        #print(\" <광고 상품 제외합니다>\")\n",
    "        continue\n",
    "        \n",
    "    name = item.find(\"div\",attrs={\"class\":\"name\"}).get_text() #제품명\n",
    "    \n",
    "    \n",
    "    # 애플 제품 제외\n",
    "    if \"Apple\" in name:\n",
    "        #print(\" <Apple 상품 제외합니다>\")\n",
    "        continue\n",
    "    \n",
    "    price = item.find(\"strong\",attrs={\"class\":\"price-value\"}).get_text() #가격\n",
    "    \n",
    "    # 리뷰 100개 이상, 평점 4.5 이상 되는 것만 조회\n",
    "    rate = item.find(\"em\",attrs={\"class\":\"rating\"}) #평점\n",
    "    if rate:\n",
    "        rate = rate.get_text()\n",
    "    else:\n",
    "        #print(\" <평점 없는 상품 제외합니다>\")\n",
    "        continue\n",
    "    \n",
    "    rate_cnt = item.find(\"span\",attrs={\"class\":\"rating-total-count\"}) #평점 수\n",
    "    if rate_cnt:\n",
    "        rate_cnt = rate_cnt.get_text()[1:-1]\n",
    "    else:\n",
    "        #print(\" <평점 수 없는 상품 제외합니다>\")\n",
    "        continue\n",
    "    \n",
    "    if float(rate) >= 4.5 and int(rate_cnt) >= 100:\n",
    "        print(name, price, rate, rate_cnt)"
   ]
  }
 ],
 "metadata": {
  "kernelspec": {
   "display_name": "Python 3 (ipykernel)",
   "language": "python",
   "name": "python3"
  },
  "language_info": {
   "codemirror_mode": {
    "name": "ipython",
    "version": 3
   },
   "file_extension": ".py",
   "mimetype": "text/x-python",
   "name": "python",
   "nbconvert_exporter": "python",
   "pygments_lexer": "ipython3",
   "version": "3.8.13"
  },
  "toc": {
   "base_numbering": 1,
   "nav_menu": {},
   "number_sections": false,
   "sideBar": true,
   "skip_h1_title": false,
   "title_cell": "Table of Contents",
   "title_sidebar": "Contents",
   "toc_cell": false,
   "toc_position": {},
   "toc_section_display": true,
   "toc_window_display": false
  }
 },
 "nbformat": 4,
 "nbformat_minor": 5
}
