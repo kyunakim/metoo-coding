{
 "cells": [
  {
   "cell_type": "code",
   "execution_count": 3,
   "id": "3d9df2e5-b539-4da9-b5f9-6ec7e2e6892a",
   "metadata": {},
   "outputs": [],
   "source": [
    "import requests\n",
    "from bs4 import BeautifulSoup"
   ]
  },
  {
   "cell_type": "code",
   "execution_count": 49,
   "id": "d72a705c-5186-405b-bfb2-0bdf1ede6050",
   "metadata": {},
   "outputs": [],
   "source": [
    "url = 'https://comic.naver.com/webtoon/weekday'\n",
    "res = requests.get(url)\n",
    "res.raise_for_status()\n",
    "soup = BeautifulSoup(res.text,'lxml')"
   ]
  },
  {
   "cell_type": "code",
   "execution_count": 10,
   "id": "c1f18519-5808-44cd-a793-49c7ca5589a8",
   "metadata": {},
   "outputs": [
    {
     "data": {
      "text/plain": [
       "<title>네이버 웹툰 &gt; 요일별  웹툰 &gt; 전체웹툰</title>"
      ]
     },
     "execution_count": 10,
     "metadata": {},
     "output_type": "execute_result"
    }
   ],
   "source": [
    "soup.title"
   ]
  },
  {
   "cell_type": "code",
   "execution_count": 11,
   "id": "91f12be0-be35-443e-a957-3b55dcfa3c28",
   "metadata": {},
   "outputs": [
    {
     "data": {
      "text/plain": [
       "'네이버 웹툰 > 요일별  웹툰 > 전체웹툰'"
      ]
     },
     "execution_count": 11,
     "metadata": {},
     "output_type": "execute_result"
    }
   ],
   "source": [
    "soup.title.get_text()"
   ]
  },
  {
   "cell_type": "code",
   "execution_count": 15,
   "id": "7c661029-9ada-45d3-b10b-b064a5c38a83",
   "metadata": {},
   "outputs": [
    {
     "data": {
      "text/plain": [
       "<a href=\"#menu\" onclick=\"document.getElementById('menu').tabIndex=-1;document.getElementById('menu').focus();return false;\"><span>메인 메뉴로 바로가기</span></a>"
      ]
     },
     "execution_count": 15,
     "metadata": {},
     "output_type": "execute_result"
    }
   ],
   "source": [
    "# soup 객체에서 처음 발견되는 a element 출력\n",
    "soup.a"
   ]
  },
  {
   "cell_type": "code",
   "execution_count": 16,
   "id": "6ab50107-fd57-45b2-8822-a95c3e78ab32",
   "metadata": {},
   "outputs": [
    {
     "data": {
      "text/plain": [
       "{'href': '#menu',\n",
       " 'onclick': \"document.getElementById('menu').tabIndex=-1;document.getElementById('menu').focus();return false;\"}"
      ]
     },
     "execution_count": 16,
     "metadata": {},
     "output_type": "execute_result"
    }
   ],
   "source": [
    "# a element의 속성 정보를 출력\n",
    "soup.a.attrs"
   ]
  },
  {
   "cell_type": "code",
   "execution_count": 17,
   "id": "b935b36e-ebe0-47db-ac3f-e8022806e7ed",
   "metadata": {},
   "outputs": [
    {
     "data": {
      "text/plain": [
       "'#menu'"
      ]
     },
     "execution_count": 17,
     "metadata": {},
     "output_type": "execute_result"
    }
   ],
   "source": [
    "# a element의 href 속성 '값' 정보를 출력\n",
    "soup.a[\"href\"]"
   ]
  },
  {
   "cell_type": "code",
   "execution_count": 22,
   "id": "8f6030d0-30c1-4133-a5ea-b0ff7a08f040",
   "metadata": {},
   "outputs": [
    {
     "data": {
      "text/plain": [
       "<a class=\"Nbtn_upload\" href=\"/mypage/myActivity\" onclick=\"nclk_v2(event,'olk.upload');\">웹툰 올리기</a>"
      ]
     },
     "execution_count": 22,
     "metadata": {},
     "output_type": "execute_result"
    }
   ],
   "source": [
    "# class = \"Nbtn_upload\"인 a element를 찾아줘\n",
    "soup.find(\"a\",attrs={\"class\":\"Nbtn_upload\"})"
   ]
  },
  {
   "cell_type": "code",
   "execution_count": 23,
   "id": "9068ecc6-a217-4b2f-92c7-d670f076c7f9",
   "metadata": {},
   "outputs": [
    {
     "data": {
      "text/plain": [
       "<a class=\"Nbtn_upload\" href=\"/mypage/myActivity\" onclick=\"nclk_v2(event,'olk.upload');\">웹툰 올리기</a>"
      ]
     },
     "execution_count": 23,
     "metadata": {},
     "output_type": "execute_result"
    }
   ],
   "source": [
    "# class = \"Nbtn_upload\"인 어떤 element를 찾아줘\n",
    "soup.find(attrs={\"class\":\"Nbtn_upload\"})"
   ]
  },
  {
   "cell_type": "code",
   "execution_count": 26,
   "id": "13bdb835-61c5-48e2-b030-272b92c8a793",
   "metadata": {},
   "outputs": [],
   "source": [
    "rank1 =soup.find(\"li\",attrs={\"class\":\"rank01\"})"
   ]
  },
  {
   "cell_type": "code",
   "execution_count": 27,
   "id": "8d6f3613-6e0f-4751-af0b-3adde86bc752",
   "metadata": {},
   "outputs": [
    {
     "data": {
      "text/plain": [
       "<a href=\"/webtoon/detail?titleId=758037&amp;no=90\" onclick=\"nclk_v2(event,'rnk*p.cont','758037','1')\" title=\"참교육-90화\">참교육-90화</a>"
      ]
     },
     "execution_count": 27,
     "metadata": {},
     "output_type": "execute_result"
    }
   ],
   "source": [
    "rank1.a"
   ]
  },
  {
   "cell_type": "code",
   "execution_count": 28,
   "id": "b70c3f37-6a72-412e-bd84-4b366503cea6",
   "metadata": {},
   "outputs": [
    {
     "data": {
      "text/plain": [
       "'참교육-90화'"
      ]
     },
     "execution_count": 28,
     "metadata": {},
     "output_type": "execute_result"
    }
   ],
   "source": [
    "rank1.a.get_text()"
   ]
  },
  {
   "cell_type": "code",
   "execution_count": 29,
   "id": "61085023-82d4-4436-93b1-0d7aba0edac4",
   "metadata": {},
   "outputs": [
    {
     "data": {
      "text/plain": [
       "'\\n'"
      ]
     },
     "execution_count": 29,
     "metadata": {},
     "output_type": "execute_result"
    }
   ],
   "source": [
    "rank1.next_sibling"
   ]
  },
  {
   "cell_type": "code",
   "execution_count": 31,
   "id": "1410290d-75d0-4f00-8b46-d40742ad71c1",
   "metadata": {},
   "outputs": [],
   "source": [
    "rank2 =rank1.next_sibling.next_sibling"
   ]
  },
  {
   "cell_type": "code",
   "execution_count": 32,
   "id": "60c5ab17-db67-4bbc-9190-b4ac00f417ca",
   "metadata": {},
   "outputs": [
    {
     "data": {
      "text/plain": [
       "'퀘스트지상주의-40화 왜 그래 여보'"
      ]
     },
     "execution_count": 32,
     "metadata": {},
     "output_type": "execute_result"
    }
   ],
   "source": [
    "rank2.a.get_text()"
   ]
  },
  {
   "cell_type": "code",
   "execution_count": 33,
   "id": "fb20e081-324a-403b-a243-a85e1888f26e",
   "metadata": {},
   "outputs": [],
   "source": [
    "rank3 =rank2.next_sibling.next_sibling"
   ]
  },
  {
   "cell_type": "code",
   "execution_count": 34,
   "id": "a2ce10de-2f99-4076-a1a8-808ae8b0695a",
   "metadata": {},
   "outputs": [
    {
     "data": {
      "text/plain": [
       "'소녀의 세계-2부 110화'"
      ]
     },
     "execution_count": 34,
     "metadata": {},
     "output_type": "execute_result"
    }
   ],
   "source": [
    "rank3.a.get_text()"
   ]
  },
  {
   "cell_type": "code",
   "execution_count": 35,
   "id": "a1e2dfa8-bf8e-4e16-b16b-dbcc6e1cf0f9",
   "metadata": {},
   "outputs": [],
   "source": [
    "rank2 = rank3.previous_sibling.previous_sibling"
   ]
  },
  {
   "cell_type": "code",
   "execution_count": 36,
   "id": "11e8fbe7-916b-4756-b1c7-e4a381f04cad",
   "metadata": {},
   "outputs": [
    {
     "data": {
      "text/plain": [
       "'퀘스트지상주의-40화 왜 그래 여보'"
      ]
     },
     "execution_count": 36,
     "metadata": {},
     "output_type": "execute_result"
    }
   ],
   "source": [
    "rank2.a.get_text()"
   ]
  },
  {
   "cell_type": "code",
   "execution_count": 37,
   "id": "da31cfbd-f368-4fb4-8b03-84249221105a",
   "metadata": {
    "collapsed": true,
    "jupyter": {
     "outputs_hidden": true
    },
    "tags": []
   },
   "outputs": [
    {
     "data": {
      "text/plain": [
       "<ol class=\"asideBoxRank\" id=\"realTimeRankFavorite\">\n",
       "<li class=\"rank01\">\n",
       "<a href=\"/webtoon/detail?titleId=758037&amp;no=90\" onclick=\"nclk_v2(event,'rnk*p.cont','758037','1')\" title=\"참교육-90화\">참교육-90화</a>\n",
       "<span class=\"rankBox\">\n",
       "<img alt=\"변동없음\" height=\"10\" src=\"https://ssl.pstatic.net/static/comic/images/migration/common/arrow_no.gif\" title=\"변동없음\" width=\"7\"/> 0\n",
       "\t\t\t\t\t\t\n",
       "\t\t\t\t\t\n",
       "\t\t\t\t</span>\n",
       "</li>\n",
       "<li class=\"rank02\">\n",
       "<a href=\"/webtoon/detail?titleId=783052&amp;no=40\" onclick=\"nclk_v2(event,'rnk*p.cont','783052','2')\" title=\"퀘스트지상주의-40화 왜 그래 여보\">퀘스트지상주의-40화 왜 그래 여보</a>\n",
       "<span class=\"rankBox\">\n",
       "<img alt=\"변동없음\" height=\"10\" src=\"https://ssl.pstatic.net/static/comic/images/migration/common/arrow_no.gif\" title=\"변동없음\" width=\"7\"/> 0\n",
       "\t\t\t\t\t\t\n",
       "\t\t\t\t\t\n",
       "\t\t\t\t</span>\n",
       "</li>\n",
       "<li class=\"rank03\">\n",
       "<a href=\"/webtoon/detail?titleId=654774&amp;no=328\" onclick=\"nclk_v2(event,'rnk*p.cont','654774','3')\" title=\"소녀의 세계-2부 110화\">소녀의 세계-2부 110화</a>\n",
       "<span class=\"rankBox\">\n",
       "<img alt=\"변동없음\" height=\"10\" src=\"https://ssl.pstatic.net/static/comic/images/migration/common/arrow_no.gif\" title=\"변동없음\" width=\"7\"/> 0\n",
       "\t\t\t\t\t\t\n",
       "\t\t\t\t\t\n",
       "\t\t\t\t</span>\n",
       "</li>\n",
       "<li class=\"rank04\">\n",
       "<a href=\"/webtoon/detail?titleId=733074&amp;no=136\" onclick=\"nclk_v2(event,'rnk*p.cont','733074','4')\" title=\"백수세끼-136화 라멘\">백수세끼-136화 라멘</a>\n",
       "<span class=\"rankBox\">\n",
       "<img alt=\"변동없음\" height=\"10\" src=\"https://ssl.pstatic.net/static/comic/images/migration/common/arrow_no.gif\" title=\"변동없음\" width=\"7\"/> 0\n",
       "\t\t\t\t\t\t\n",
       "\t\t\t\t\t\n",
       "\t\t\t\t</span>\n",
       "</li>\n",
       "<li class=\"rank05\">\n",
       "<a href=\"/webtoon/detail?titleId=602910&amp;no=398\" onclick=\"nclk_v2(event,'rnk*p.cont','602910','5')\" title=\"윈드브레이커-4부 - 20화 설마 너도 도핑이냐\">윈드브레이커-4부 - 20화 설마 너도 도핑이냐</a>\n",
       "<span class=\"rankBox\">\n",
       "<img alt=\"변동없음\" height=\"10\" src=\"https://ssl.pstatic.net/static/comic/images/migration/common/arrow_no.gif\" title=\"변동없음\" width=\"7\"/> 0\n",
       "\t\t\t\t\t\t\n",
       "\t\t\t\t\t\n",
       "\t\t\t\t</span>\n",
       "</li>\n",
       "<li class=\"rank06\">\n",
       "<a href=\"/webtoon/detail?titleId=648419&amp;no=344\" onclick=\"nclk_v2(event,'rnk*p.cont','648419','6')\" title=\"뷰티풀 군바리-338화_신임 중대장\">뷰티풀 군바리-338화_신임 중대장</a>\n",
       "<span class=\"rankBox\">\n",
       "<img alt=\"변동없음\" height=\"10\" src=\"https://ssl.pstatic.net/static/comic/images/migration/common/arrow_no.gif\" title=\"변동없음\" width=\"7\"/> 0\n",
       "\t\t\t\t\t\t\n",
       "\t\t\t\t\t\n",
       "\t\t\t\t</span>\n",
       "</li>\n",
       "<li class=\"rank07\">\n",
       "<a href=\"/webtoon/detail?titleId=183559&amp;no=549\" onclick=\"nclk_v2(event,'rnk*p.cont','183559','7')\" title=\"신의 탑-3부 130화\">신의 탑-3부 130화</a>\n",
       "<span class=\"rankBox\">\n",
       "<img alt=\"변동없음\" height=\"10\" src=\"https://ssl.pstatic.net/static/comic/images/migration/common/arrow_no.gif\" title=\"변동없음\" width=\"7\"/> 0\n",
       "\t\t\t\t\t\t\n",
       "\t\t\t\t\t\n",
       "\t\t\t\t</span>\n",
       "</li>\n",
       "<li class=\"rank08\">\n",
       "<a href=\"/webtoon/detail?titleId=795297&amp;no=9\" onclick=\"nclk_v2(event,'rnk*p.cont','795297','8')\" title=\"신화급 귀속 아이템을 손에 넣었다-8화\">신화급 귀속 아이템을 손에 넣었다-8화</a>\n",
       "<span class=\"rankBox\">\n",
       "<img alt=\"변동없음\" height=\"10\" src=\"https://ssl.pstatic.net/static/comic/images/migration/common/arrow_no.gif\" title=\"변동없음\" width=\"7\"/> 0\n",
       "\t\t\t\t\t\t\n",
       "\t\t\t\t\t\n",
       "\t\t\t\t</span>\n",
       "</li>\n",
       "<li class=\"rank09\">\n",
       "<a href=\"/webtoon/detail?titleId=796867&amp;no=4\" onclick=\"nclk_v2(event,'rnk*p.cont','796867','9')\" title=\"버림받은 왕녀의 은밀한 침실-4화. 헛다리 2\">버림받은 왕녀의 은밀한 침실-4화. 헛다리 2</a>\n",
       "<span class=\"rankBox\">\n",
       "<img alt=\"변동없음\" height=\"10\" src=\"https://ssl.pstatic.net/static/comic/images/migration/common/arrow_no.gif\" title=\"변동없음\" width=\"7\"/> 0\n",
       "\t\t\t\t\t\t\n",
       "\t\t\t\t\t\n",
       "\t\t\t\t</span>\n",
       "</li>\n",
       "<li class=\"rank10\">\n",
       "<a href=\"/webtoon/detail?titleId=795643&amp;no=15\" onclick=\"nclk_v2(event,'rnk*p.cont','795643','10')\" title=\"호랑신랑뎐-15화\">호랑신랑뎐-15화</a>\n",
       "<span class=\"rankBox\">\n",
       "<img alt=\"변동없음\" height=\"10\" src=\"https://ssl.pstatic.net/static/comic/images/migration/common/arrow_no.gif\" title=\"변동없음\" width=\"7\"/> 0\n",
       "\t\t\t\t\t\t\n",
       "\t\t\t\t\t\n",
       "\t\t\t\t</span>\n",
       "</li>\n",
       "</ol>"
      ]
     },
     "execution_count": 37,
     "metadata": {},
     "output_type": "execute_result"
    }
   ],
   "source": [
    "rank1.parent"
   ]
  },
  {
   "cell_type": "code",
   "execution_count": 38,
   "id": "4741f018-e5dd-4156-85da-b970db73e35c",
   "metadata": {},
   "outputs": [],
   "source": [
    "rank2 =rank1.find_next_sibling(\"li\")"
   ]
  },
  {
   "cell_type": "code",
   "execution_count": 39,
   "id": "3811e40b-2e73-4e0b-b9a8-360714981388",
   "metadata": {},
   "outputs": [
    {
     "data": {
      "text/plain": [
       "'퀘스트지상주의-40화 왜 그래 여보'"
      ]
     },
     "execution_count": 39,
     "metadata": {},
     "output_type": "execute_result"
    }
   ],
   "source": [
    "rank2.a.get_text()"
   ]
  },
  {
   "cell_type": "code",
   "execution_count": 40,
   "id": "82fec530-7f67-4642-baf5-a853dc204b3b",
   "metadata": {},
   "outputs": [],
   "source": [
    "rank3 = rank2.find_next_sibling(\"li\")"
   ]
  },
  {
   "cell_type": "code",
   "execution_count": 41,
   "id": "b0b2efcf-639a-4aec-ab66-70667a3dce07",
   "metadata": {},
   "outputs": [
    {
     "data": {
      "text/plain": [
       "'소녀의 세계-2부 110화'"
      ]
     },
     "execution_count": 41,
     "metadata": {},
     "output_type": "execute_result"
    }
   ],
   "source": [
    "rank3.a.get_text()"
   ]
  },
  {
   "cell_type": "code",
   "execution_count": 42,
   "id": "485f30e6-42f6-421a-81d8-1b3251ccfdab",
   "metadata": {},
   "outputs": [],
   "source": [
    "rank2 = rank3.find_previous_sibling(\"li\")"
   ]
  },
  {
   "cell_type": "code",
   "execution_count": 43,
   "id": "9816b417-1075-4e52-93d5-73cf63bfd578",
   "metadata": {},
   "outputs": [
    {
     "data": {
      "text/plain": [
       "'퀘스트지상주의-40화 왜 그래 여보'"
      ]
     },
     "execution_count": 43,
     "metadata": {},
     "output_type": "execute_result"
    }
   ],
   "source": [
    "rank2.a.get_text()"
   ]
  },
  {
   "cell_type": "code",
   "execution_count": 45,
   "id": "1397b768-969e-4974-8386-af268aa7c804",
   "metadata": {
    "collapsed": true,
    "jupyter": {
     "outputs_hidden": true
    },
    "tags": []
   },
   "outputs": [
    {
     "data": {
      "text/plain": [
       "[<li class=\"rank02\">\n",
       " <a href=\"/webtoon/detail?titleId=783052&amp;no=40\" onclick=\"nclk_v2(event,'rnk*p.cont','783052','2')\" title=\"퀘스트지상주의-40화 왜 그래 여보\">퀘스트지상주의-40화 왜 그래 여보</a>\n",
       " <span class=\"rankBox\">\n",
       " <img alt=\"변동없음\" height=\"10\" src=\"https://ssl.pstatic.net/static/comic/images/migration/common/arrow_no.gif\" title=\"변동없음\" width=\"7\"/> 0\n",
       " \t\t\t\t\t\t\n",
       " \t\t\t\t\t\n",
       " \t\t\t\t</span>\n",
       " </li>,\n",
       " <li class=\"rank03\">\n",
       " <a href=\"/webtoon/detail?titleId=654774&amp;no=328\" onclick=\"nclk_v2(event,'rnk*p.cont','654774','3')\" title=\"소녀의 세계-2부 110화\">소녀의 세계-2부 110화</a>\n",
       " <span class=\"rankBox\">\n",
       " <img alt=\"변동없음\" height=\"10\" src=\"https://ssl.pstatic.net/static/comic/images/migration/common/arrow_no.gif\" title=\"변동없음\" width=\"7\"/> 0\n",
       " \t\t\t\t\t\t\n",
       " \t\t\t\t\t\n",
       " \t\t\t\t</span>\n",
       " </li>,\n",
       " <li class=\"rank04\">\n",
       " <a href=\"/webtoon/detail?titleId=733074&amp;no=136\" onclick=\"nclk_v2(event,'rnk*p.cont','733074','4')\" title=\"백수세끼-136화 라멘\">백수세끼-136화 라멘</a>\n",
       " <span class=\"rankBox\">\n",
       " <img alt=\"변동없음\" height=\"10\" src=\"https://ssl.pstatic.net/static/comic/images/migration/common/arrow_no.gif\" title=\"변동없음\" width=\"7\"/> 0\n",
       " \t\t\t\t\t\t\n",
       " \t\t\t\t\t\n",
       " \t\t\t\t</span>\n",
       " </li>,\n",
       " <li class=\"rank05\">\n",
       " <a href=\"/webtoon/detail?titleId=602910&amp;no=398\" onclick=\"nclk_v2(event,'rnk*p.cont','602910','5')\" title=\"윈드브레이커-4부 - 20화 설마 너도 도핑이냐\">윈드브레이커-4부 - 20화 설마 너도 도핑이냐</a>\n",
       " <span class=\"rankBox\">\n",
       " <img alt=\"변동없음\" height=\"10\" src=\"https://ssl.pstatic.net/static/comic/images/migration/common/arrow_no.gif\" title=\"변동없음\" width=\"7\"/> 0\n",
       " \t\t\t\t\t\t\n",
       " \t\t\t\t\t\n",
       " \t\t\t\t</span>\n",
       " </li>,\n",
       " <li class=\"rank06\">\n",
       " <a href=\"/webtoon/detail?titleId=648419&amp;no=344\" onclick=\"nclk_v2(event,'rnk*p.cont','648419','6')\" title=\"뷰티풀 군바리-338화_신임 중대장\">뷰티풀 군바리-338화_신임 중대장</a>\n",
       " <span class=\"rankBox\">\n",
       " <img alt=\"변동없음\" height=\"10\" src=\"https://ssl.pstatic.net/static/comic/images/migration/common/arrow_no.gif\" title=\"변동없음\" width=\"7\"/> 0\n",
       " \t\t\t\t\t\t\n",
       " \t\t\t\t\t\n",
       " \t\t\t\t</span>\n",
       " </li>,\n",
       " <li class=\"rank07\">\n",
       " <a href=\"/webtoon/detail?titleId=183559&amp;no=549\" onclick=\"nclk_v2(event,'rnk*p.cont','183559','7')\" title=\"신의 탑-3부 130화\">신의 탑-3부 130화</a>\n",
       " <span class=\"rankBox\">\n",
       " <img alt=\"변동없음\" height=\"10\" src=\"https://ssl.pstatic.net/static/comic/images/migration/common/arrow_no.gif\" title=\"변동없음\" width=\"7\"/> 0\n",
       " \t\t\t\t\t\t\n",
       " \t\t\t\t\t\n",
       " \t\t\t\t</span>\n",
       " </li>,\n",
       " <li class=\"rank08\">\n",
       " <a href=\"/webtoon/detail?titleId=795297&amp;no=9\" onclick=\"nclk_v2(event,'rnk*p.cont','795297','8')\" title=\"신화급 귀속 아이템을 손에 넣었다-8화\">신화급 귀속 아이템을 손에 넣었다-8화</a>\n",
       " <span class=\"rankBox\">\n",
       " <img alt=\"변동없음\" height=\"10\" src=\"https://ssl.pstatic.net/static/comic/images/migration/common/arrow_no.gif\" title=\"변동없음\" width=\"7\"/> 0\n",
       " \t\t\t\t\t\t\n",
       " \t\t\t\t\t\n",
       " \t\t\t\t</span>\n",
       " </li>,\n",
       " <li class=\"rank09\">\n",
       " <a href=\"/webtoon/detail?titleId=796867&amp;no=4\" onclick=\"nclk_v2(event,'rnk*p.cont','796867','9')\" title=\"버림받은 왕녀의 은밀한 침실-4화. 헛다리 2\">버림받은 왕녀의 은밀한 침실-4화. 헛다리 2</a>\n",
       " <span class=\"rankBox\">\n",
       " <img alt=\"변동없음\" height=\"10\" src=\"https://ssl.pstatic.net/static/comic/images/migration/common/arrow_no.gif\" title=\"변동없음\" width=\"7\"/> 0\n",
       " \t\t\t\t\t\t\n",
       " \t\t\t\t\t\n",
       " \t\t\t\t</span>\n",
       " </li>,\n",
       " <li class=\"rank10\">\n",
       " <a href=\"/webtoon/detail?titleId=795643&amp;no=15\" onclick=\"nclk_v2(event,'rnk*p.cont','795643','10')\" title=\"호랑신랑뎐-15화\">호랑신랑뎐-15화</a>\n",
       " <span class=\"rankBox\">\n",
       " <img alt=\"변동없음\" height=\"10\" src=\"https://ssl.pstatic.net/static/comic/images/migration/common/arrow_no.gif\" title=\"변동없음\" width=\"7\"/> 0\n",
       " \t\t\t\t\t\t\n",
       " \t\t\t\t\t\n",
       " \t\t\t\t</span>\n",
       " </li>]"
      ]
     },
     "execution_count": 45,
     "metadata": {},
     "output_type": "execute_result"
    }
   ],
   "source": [
    "rank1.find_next_siblings(\"li\")"
   ]
  },
  {
   "cell_type": "markdown",
   "id": "7c0f65d9-16a3-42c3-a8d3-aebf2bf2faa1",
   "metadata": {},
   "source": [
    "<a onclick=\"nclk_v2(event,'rnk*p.cont','783052','2')\" href=\"/webtoon/detail?titleId=783052&amp;no=40\" title=\"퀘스트지상주의-40화 왜 그래 여보\">퀘스트지상주의-40화 왜 그래 여보</a>"
   ]
  },
  {
   "cell_type": "code",
   "execution_count": 48,
   "id": "8685c3b2-f86b-4f2a-99bb-f9392fbf6bd3",
   "metadata": {},
   "outputs": [
    {
     "data": {
      "text/plain": [
       "<a href=\"/webtoon/detail?titleId=783052&amp;no=40\" onclick=\"nclk_v2(event,'rnk*p.cont','783052','2')\" title=\"퀘스트지상주의-40화 왜 그래 여보\">퀘스트지상주의-40화 왜 그래 여보</a>"
      ]
     },
     "execution_count": 48,
     "metadata": {},
     "output_type": "execute_result"
    }
   ],
   "source": [
    "webtoon = soup.find(\"a\",text=\"퀘스트지상주의-40화 왜 그래 여보\")\n",
    "webtoon"
   ]
  },
  {
   "cell_type": "code",
   "execution_count": 50,
   "id": "30a4f303-d7b3-41fe-a9a1-8d6ebf68b5f2",
   "metadata": {},
   "outputs": [],
   "source": [
    "url = 'https://comic.naver.com/webtoon/weekday'\n",
    "res = requests.get(url)\n",
    "res.raise_for_status()\n",
    "soup = BeautifulSoup(res.text,'lxml')"
   ]
  },
  {
   "cell_type": "code",
   "execution_count": 54,
   "id": "d61f3d87-ba0b-4ef0-9499-16e4ec860acd",
   "metadata": {},
   "outputs": [],
   "source": [
    "# 네이버 웹툰 전체 목록 가져오기\n",
    "cartoons = soup.find_all(\"a\",attrs={\"class\":\"title\"})"
   ]
  },
  {
   "cell_type": "code",
   "execution_count": 53,
   "id": "68ed919d-4106-4fed-af47-9eb49a0468cc",
   "metadata": {
    "collapsed": true,
    "jupyter": {
     "outputs_hidden": true
    },
    "tags": []
   },
   "outputs": [
    {
     "name": "stdout",
     "output_type": "stream",
     "text": [
      "참교육\n",
      "신의 탑\n",
      "뷰티풀 군바리\n",
      "퀘스트지상주의\n",
      "윈드브레이커\n",
      "호랑신랑뎐\n",
      "장씨세가 호위무사\n",
      "소녀의 세계\n",
      "백수세끼\n",
      "신화급 귀속 아이템을 손에 넣었다\n",
      "앵무살수\n",
      "잔불의 기사\n",
      "절대검감\n",
      "불청객\n",
      "버림받은 왕녀의 은밀한 침실\n",
      "리턴 투 플레이어\n",
      "똑 닮은 딸\n",
      "히어로메이커\n",
      "아, 쫌 참으세요 영주님!\n",
      "꼬리잡기\n",
      "이별 후 사내 결혼\n",
      "더블클릭\n",
      "결혼생활 그림일기\n",
      "칼가는 소녀\n",
      "메리의 불타는 행복회로\n",
      "황제와의 하룻밤\n",
      "순정말고 순종\n",
      "북부 공작님을 유혹하겠습니다\n",
      "세번째 로망스\n",
      "우산 없는 애\n",
      "파운더\n",
      "신군\n",
      "오빠집이 비어서\n",
      "또다시, 계약 부부\n",
      "꿈의 기업\n",
      "미니어처 생활백서\n",
      "다시쓰는 연애사\n",
      "제왕: 빛과 그림자\n",
      "야생천사 보호구역\n",
      "버그이터\n",
      "오늘의 비너스\n",
      "루크 비셸 따라잡기\n",
      "입술이 예쁜 남자\n",
      "사랑의 헌옷수거함\n",
      "말박왕\n",
      "원작은 완결난 지 한참 됐습니다만\n",
      "레지나레나 - 용서받지 못한 그대에게\n",
      "경비실에서 안내방송 드립니다\n",
      "하루의 하루\n",
      "아마도\n",
      "홍천기\n",
      "싸이코 리벤지\n",
      "모노마니아\n",
      "최후의 금빛아이\n",
      "백호랑\n",
      "매지컬 급식:암살법사\n",
      "그림자 신부\n",
      "달로 만든 아이\n",
      "왕따협상\n",
      "찌질하지만 로맨스는 하고 싶어\n",
      "파견체\n",
      "나만의 고막남친\n",
      "모락모락 왕세자님\n",
      "흔들리는 세계로부터\n",
      "지옥연애환담\n",
      "악녀 18세 공략기\n",
      "디나운스\n",
      "결혼공략\n",
      "역주행!\n",
      "사막에 핀 달\n",
      "물어보는 사이\n",
      "헬로맨스\n",
      "슈퍼스타 천대리\n",
      "기사님을 지켜줘\n",
      "남주서치\n",
      "오로지 오로라\n",
      "별을 쫓는 소년들\n",
      "모스크바의 여명\n",
      "김부장\n",
      "대학원 탈출일지\n",
      "여신강림\n",
      "마루는 강쥐\n",
      "1을 줄게\n",
      "멸망 이후의 세계\n",
      "내가 키운 S급들\n",
      "중증외상센터 : 골든 아워\n",
      "용사가 돌아왔다\n",
      "신도림\n",
      "삼국지톡\n",
      "악몽의 형상\n",
      "랜덤채팅의 그녀!\n",
      "집이 없어\n",
      "초인의 게임\n",
      "하북팽가 막내아들\n",
      "천마는 평범하게 살 수 없다\n",
      "호랑이 들어와요\n",
      "원주민 공포만화\n",
      "1331\n",
      "숲속의 담\n",
      "위아더좀비\n",
      "헬58\n",
      "덴큐\n",
      "윌유메리미\n",
      "애옹식당\n",
      "올가미\n",
      "몬스터\n",
      "견우와 선녀\n",
      "플레이, 플리\n",
      "이 결혼, 새로고침\n",
      "에이머\n",
      "늑대처럼 홀로\n",
      "나타나주세요!\n",
      "용왕님의 셰프가 되었습니다\n",
      "제로게임\n",
      "은주의 방 2~3부\n",
      "빅맨\n",
      "택배 왔습니다\n",
      "연우의 순정\n",
      "사공은주\n",
      "아이즈\n",
      "100\n",
      "벽간소음\n",
      "대공님, 실수였어요!\n",
      "시벨롬 리스트\n",
      "또 다른 사랑\n",
      "너의 순정, 나의 순정\n",
      "열녀박씨 계약결혼뎐\n",
      "내남친 킹카만들기\n",
      "한입만!\n",
      "나의 플랏메이트\n",
      "달이 사라진 밤\n",
      "붉은 이정표\n",
      "짝사랑의 마침표\n",
      "태시트\n",
      "필리아로제 - 가시왕관의 예언\n",
      "풋내기들\n",
      "미물\n",
      "주인님을 잡아먹는 방법\n",
      "나는 어디에나 있다\n",
      "그녀석 정복기\n",
      "이븐 모어\n",
      "프린스 메이커\n",
      "미신\n",
      "NG불가\n",
      "그 남주와 이별하는 방법\n",
      "대신 심부름을 해다오\n",
      "교환학생\n",
      "다꾸남\n",
      "급식러너\n",
      "잿빛오름\n",
      "하나in세인\n",
      "찐:종합게임동아리\n",
      "마녀이야기\n",
      "2022 스크롤금지\n",
      "화산귀환\n",
      "내 남편과 결혼해줘\n",
      "전지적 독자 시점\n",
      "조조코믹스\n",
      "헬퍼 2 : 킬베로스\n",
      "비즈니스 여친\n",
      "튜토리얼 탑의 고인물\n",
      "66666년 만에 환생한 흑마법사\n",
      "남주의 첫날밤을 가져버렸다\n",
      "여고생 드래곤\n",
      "기묘한 만화\n",
      "일렉시드\n",
      "나쁜사람\n",
      "빌드업\n",
      "칼에 취한 밤을 걷다\n",
      "연놈\n",
      "엔딩 후 서브남을 주웠다\n",
      "쓰레기는 쓰레기통에!\n",
      "베스트 프렌드\n",
      "영웅&마왕&악당\n",
      "세상은 돈과 권력\n",
      "마른 가지에 바람처럼\n",
      "물고기로 살아남기\n",
      "고삼무쌍\n",
      "알뜰일기\n",
      "사상최강\n",
      "미래의 골동품 가게\n",
      "운명을 보는 회사원\n",
      "판타지 여동생!\n",
      "방탈출\n",
      "홀리데이\n",
      "좀간\n",
      "언덕 위의 제임스\n",
      "반귀\n",
      "옆집남자 친구\n",
      "아도나이\n",
      "내가 죽기로 결심한 것은\n",
      "마녀와 용의 신혼일기\n",
      "메모리얼\n",
      "얼굴천재\n",
      "하렘의 남자들\n",
      "선배는 나빠요!\n",
      "헤어지면 죽음\n",
      "수요웹툰의 나강림\n",
      "그녀의 육하원칙\n",
      "가짜 동맹\n",
      "로어 올림푸스\n",
      "범이올시다!\n",
      "괴물공작의 딸\n",
      "안미운 우리들\n",
      "주부 육성중\n",
      "두 번 사는 프로듀서\n",
      "더 퀸즈\n",
      "밀행\n",
      "클로닝\n",
      "인과관계\n",
      "잿빛도 색이다\n",
      "재생존경쟁\n",
      "사랑과 평강의 온달!\n",
      "구사일생 로맨스\n",
      "그림자의 밤\n",
      "반짝반짝 작은 눈\n",
      "이별학\n",
      "멸종위기종인간\n",
      "무용과 남학생\n",
      "뱀은 꽃을 먹는가\n",
      "이 짝사랑은 억울하다!\n",
      "혁명 뒤 공주는\n",
      "낙원의 이론\n",
      "구주\n",
      "나의 계절\n",
      "하지만 너는 2D잖아\n",
      "해귀\n",
      "산의 시간\n",
      "수호하는 너에게\n",
      "오직, 밝은 미래\n",
      "필생기\n",
      "프로듀스 온리원\n",
      "우리 은하\n",
      "아이돌의 비밀 스터디\n",
      "독립일기\n",
      "나노마신\n",
      "연애혁명\n",
      "호랑신랑뎐\n",
      "현실퀘스트\n",
      "천마육성\n",
      "회귀한 천재 헌터의 슬기로운 청소생활\n",
      "나 혼자 네크로맨서\n",
      "무사만리행\n",
      "정글쥬스\n",
      "노답소녀\n",
      "누나! 나 무서워\n",
      "죄송한데 주인공이세요?\n",
      "베니루 BAENIRU\n",
      "특수청소\n",
      "쿠베라\n",
      "천재의 게임방송\n",
      "하드캐리\n",
      "개와 사람의 시간\n",
      "불편한 관계\n",
      "던전 씹어먹는 아티팩트\n",
      "최강전설 강해효\n",
      "버려진 나의 최애를 위하여\n",
      "위대한 겸상\n",
      "꽃만 키우는데 너무강함\n",
      "남편을 죽여줘요\n",
      "트롤트랩\n",
      "별을 삼킨 너에게\n",
      "국세청 망나니\n",
      "완벽한 결혼의 정석\n",
      "오빠세끼\n",
      "선남친 후연애\n",
      "가족같은 XX\n",
      "마왕까지 한 걸음\n",
      "순정빌런\n",
      "시월드 판타지\n",
      "만능잡캐\n",
      "황궁에 핀 꽃은, 미쳤다\n",
      "만물의 영장\n",
      "갓트\n",
      "널 사랑하는 죽은 형\n",
      "마계인섬\n",
      "안개무덤\n",
      "아인슈페너\n",
      "네가 죽기를 바랄 때가 있었다\n",
      "권리행사자\n",
      "마법사랑해\n",
      "유월의 소한\n",
      "두 번째 딸로 태어났습니다\n",
      "킬더킹\n",
      "1학년 9반\n",
      "연애의 발견\n",
      "달의 요람\n",
      "부캐인생\n",
      "온에어\n",
      "THE 런웨이\n",
      "가상&RPG\n",
      "마녀의 심판은 꽃이 된다\n",
      "침묵의 밤\n",
      "해시의 신루\n",
      "따개비\n",
      "자취방 신선들\n",
      "환상연가\n",
      "오, 친애하는 숙적\n",
      "아빠같은 남자\n",
      "진짜 진짜 이혼해\n",
      "이계 무슨 황비\n",
      "배트맨: 웨인 패밀리 어드벤처\n",
      "베어케어\n",
      "시에라\n",
      "로맨틱 태평수산\n",
      "방과후 레시피\n",
      "그 황제가 시곗바늘을 되돌린 사연\n",
      "성스러운 아이돌\n",
      "나쁜 마법사의 꿈\n",
      "카루나\n",
      "돌아온 여기사\n",
      "온실 속 화초\n",
      "사랑하는 여배우들\n",
      "보물과 괴물의 도시\n",
      "혼모노트\n",
      "폭탄주먹 변대장\n",
      "모어 라이프\n",
      "외모지상주의\n",
      "갓 오브 하이스쿨\n",
      "나 혼자 만렙 뉴비\n",
      "대학원 탈출일지\n",
      "어쩌다보니 천생연분\n",
      "광마회귀\n",
      "데드퀸\n",
      "재혼 황후\n",
      "1초\n",
      "개를 낳았다\n",
      "내과 박원장\n",
      "삼국지톡\n",
      "죽지 않으려면\n",
      "낙향문사전\n",
      "세기말 풋사과 보습학원\n",
      "서울역 드루이드\n",
      "역대급 영지 설계사\n",
      "뫼신 사냥꾼\n",
      "말년용사\n",
      "여우놀이\n",
      "비밀친구\n",
      "히어로 킬러\n",
      "구남친이 내게 반했다\n",
      "그렇고 그런 바람에\n",
      "더 게이머\n",
      "선을 넘은 연애\n",
      "미혼남녀의 효율적 만남\n",
      "멜빈이 그들에게 남긴 것\n",
      "플레이어\n",
      "A.I. 닥터\n",
      "푸쉬오프\n",
      "희란국연가\n",
      "이터널 포스\n",
      "그들이 사귀는 세상\n",
      "스토커의 하루\n",
      "그 기사가 레이디로 사는 법\n",
      "킬 더 드래곤\n",
      "상위1%\n",
      "드래곤의 심장을 가지고 있습니다\n",
      "후덜덜덜 남극전자\n",
      "스포\n",
      "모텔 304호\n",
      "네버엔딩달링\n",
      "식인귀\n",
      "이게 아닌데\n",
      "악마라고 불러다오\n",
      "솔트앤페퍼\n",
      "백년게임\n",
      "로또 황녀님\n",
      "여름여자 하보이\n",
      "골든 체인지\n",
      "재앙의 날\n",
      "아찔한 전남편\n",
      "트럼프\n",
      "인피니티\n",
      "태권보이\n",
      "악몽일기\n",
      "오!너의 리스크\n",
      "달이 없는 나라\n",
      "몽홀\n",
      "로판 빙의 만화\n",
      "주님, 악마가 되게 해주세요!\n",
      "리트리츠\n",
      "거래\n",
      "짝사랑 마들렌\n",
      "별빛 커튼콜\n",
      "합법해적 파르페\n",
      "빨간맛 로맨스\n",
      "너의 키스씬\n",
      "히트포인트\n",
      "스치면 인연 스며들면 사랑\n",
      "팬시X팬시\n",
      "킬러방 : 퍼스트 킬\n",
      "2022 스크롤금지\n",
      "호랑이형님\n",
      "조조코믹스\n",
      "99강화나무몽둥이\n",
      "취사병 전설이 되다\n",
      "프리드로우\n",
      "여고생 드래곤\n",
      "은탄\n",
      "악몽의 형상\n",
      "초인의 시대\n",
      "망나니 소교주로 환생했다\n",
      "스터디그룹\n",
      "아홉수 우리들\n",
      "반드시 해피엔딩\n",
      "나이트런\n",
      "윌유메리미\n",
      "존잘주의\n",
      "나태 공자, 노력 천재 되다\n",
      "나를 바꿔줘\n",
      "소공녀 민트\n",
      "힙한남자\n",
      "남편 먹는 여자\n",
      "대충 캠퍼스로맨스임\n",
      "아사\n",
      "작전명 순정\n",
      "탑코너\n",
      "미나 이퀄\n",
      "태백 : 튜토리얼 맨\n",
      "키스 식스 센스\n",
      "좀비 파이트\n",
      "용사참수인\n",
      "다비, 아찔하게 흐르는\n",
      "이계진입 리로디드\n",
      "폭군 남편과 이혼하겠습니다\n",
      "물위의 우리\n",
      "홍시는 날 좋아해!\n",
      "완벽한 부부는 없다\n",
      "최면학교\n",
      "팬인데 왜요\n",
      "엑스애쉬\n",
      "공유몽\n",
      "광해의 연인\n",
      "남편을 만렙으로 키우려 합니다\n",
      "마법사가 죽음을 맞이하는 방법\n",
      "묘령의 황자\n",
      "메트로헌터\n",
      "최강부캐\n",
      "저무는 해, 시린 눈\n",
      "은둔코인\n",
      "같은 학교 친구\n",
      "소년 검사\n",
      "숨겨진 성녀\n",
      "지구식 구원자 전형\n",
      "안녕, 이바다씨\n",
      "배달의 신\n",
      "왕년엔 용사님\n",
      "팔려 온 신부\n",
      "전생연분\n",
      "아가사\n",
      "적월의 나라\n",
      "사서고생!\n",
      "복수를 위한 결혼동맹\n",
      "중매쟁이 아가 황녀님\n",
      "모두 너였다\n",
      "좋은데 어떡해\n",
      "일상이 무너졌다\n",
      "도사 가온\n",
      "더 나우\n",
      "주욱 같은 하루\n",
      "키스의 여왕\n",
      "나를 길들여 봐, 차비서\n",
      "스트릿 워크아웃\n",
      "보고 있지?\n",
      "밤을 깨우는 마법\n",
      "이건 그냥 연애 이야기\n",
      "아침을 지나 밤으로\n",
      "좋아해 아니 싫어해\n",
      "실버 쥬얼\n",
      "7FATES: CHAKHO\n",
      "보듬보듬\n",
      "지옥급식\n",
      "2022 스크롤금지\n",
      "독립일기\n",
      "싸움독학\n",
      "투신전생기\n",
      "입학용병\n",
      "약한영웅\n",
      "이번 생도 잘 부탁해\n",
      "사형소년\n",
      "일타강사 백사부\n",
      "수희0(tngmlek0)\n",
      "존망코인\n",
      "천하제일인\n",
      "별이삼샵\n",
      "아카데미에 위장취업당했다\n",
      "소녀재판\n",
      "무서운게 딱좋아!\n",
      "내일\n",
      "오로지 너를 이기고 싶어\n",
      "곱게 키웠더니, 짐승\n",
      "경비 배두만\n",
      "판사 이한영\n",
      "테러대부활\n",
      "시월드가 내게 집착한다\n",
      "마법스크롤 상인 지오\n",
      "어느날 갑자기 서울은\n",
      "경자 전성시대\n",
      "동생친구\n",
      "홍 의관의 은밀한 비밀\n",
      "폰투스 : 극야2\n",
      "마섹남 - 마술하는 섹시한 남자\n",
      "킬링킬러\n",
      "장풍전\n",
      "위닝샷!\n",
      "고백 취소도 되나?\n",
      "하렘에서 살아남기\n",
      "천치전능\n",
      "학교정벌\n",
      "생존로그\n",
      "결혼까지 망상했어!\n",
      "후궁 스캔들\n",
      "황제에게 하트를 심어주세요\n",
      "마왕의 고백\n",
      "랑데뷰\n",
      "장미같은 소리\n",
      "몸이 바뀌는 사정\n",
      "나의 작은 서점\n",
      "위험한 남편을 길들이는 법\n",
      "전설의 화석\n",
      "여우애담\n",
      "돌&아이\n",
      "데빌샷\n",
      "예쁜 사나이\n",
      "생존고백\n",
      "아마도, 굿모닝\n",
      "보스의 노골적 취향\n",
      "굿 리스너\n",
      "사람은 고쳐 쓰는 게 아니야!\n",
      "오른눈이 보는 세계\n",
      "블러드 리벤저\n",
      "조선여우스캔들\n",
      "보통아이\n",
      "신이 담긴 아이\n",
      "라커, 오프너\n",
      "샤인 스타\n",
      "당신의 여자가 되고 싶어요\n",
      "6월의 라벤더\n",
      "철수와 영희 이야기\n",
      "혀로 만난 사이\n",
      "밀실 마피아 게임\n",
      "마도\n",
      "독신마법사 기숙아파트\n",
      "패션쇼\n",
      "제타\n",
      "거래하실래요?\n",
      "구해줘, 호구!\n",
      "짝사랑의 유서\n",
      "DARK MOON: 달의 제단\n"
     ]
    }
   ],
   "source": [
    "# class속성이 titledls 모든 \"a\" element 반환\n",
    "for cartoon in cartoons:\n",
    "    print(cartoon.get_text())"
   ]
  },
  {
   "cell_type": "code",
   "execution_count": 55,
   "id": "99c92a59-1ca8-47d7-9a7d-8f77ef3e28d7",
   "metadata": {},
   "outputs": [],
   "source": [
    "url =\"https://comic.naver.com/webtoon/list?titleId=758666&weekday=mon\"\n",
    "res = requests.get(url)\n",
    "res.raise_for_status()"
   ]
  },
  {
   "cell_type": "code",
   "execution_count": 56,
   "id": "49edac54-5d58-4840-804d-cbfec166e98e",
   "metadata": {},
   "outputs": [],
   "source": [
    "soup = BeautifulSoup(res.text,'lxml')"
   ]
  },
  {
   "cell_type": "code",
   "execution_count": 57,
   "id": "581228a6-a795-4383-ac07-51c1dc0fccd2",
   "metadata": {},
   "outputs": [],
   "source": [
    "cartoons = soup.find_all(\"td\",attrs={\"class\":\"title\"})"
   ]
  },
  {
   "cell_type": "code",
   "execution_count": 60,
   "id": "0aee8c67-88e7-4201-82c2-3bd1c1e3f8ec",
   "metadata": {},
   "outputs": [
    {
     "data": {
      "text/plain": [
       "'54화'"
      ]
     },
     "execution_count": 60,
     "metadata": {},
     "output_type": "execute_result"
    }
   ],
   "source": [
    "title = cartoons[0].a.get_text()\n",
    "title"
   ]
  },
  {
   "cell_type": "code",
   "execution_count": 61,
   "id": "ade4950f-c7a2-47c3-988e-7cf3abd9cd3c",
   "metadata": {},
   "outputs": [
    {
     "data": {
      "text/plain": [
       "'53화'"
      ]
     },
     "execution_count": 61,
     "metadata": {},
     "output_type": "execute_result"
    }
   ],
   "source": [
    "title = cartoons[1].a.get_text()\n",
    "title"
   ]
  },
  {
   "cell_type": "code",
   "execution_count": 62,
   "id": "fb658a72-1d8c-4f18-b7ba-072e9d72672e",
   "metadata": {},
   "outputs": [
    {
     "data": {
      "text/plain": [
       "'/webtoon/detail?titleId=758666&no=54&weekday=mon'"
      ]
     },
     "execution_count": 62,
     "metadata": {},
     "output_type": "execute_result"
    }
   ],
   "source": [
    "link = cartoons[0].a[\"href\"]\n",
    "link"
   ]
  },
  {
   "cell_type": "code",
   "execution_count": 63,
   "id": "56bce76d-b8fd-4948-b32a-76b482a8b4a7",
   "metadata": {},
   "outputs": [
    {
     "data": {
      "text/plain": [
       "'https://comic.naver.com/webtoon/detail?titleId=758666&no=54&weekday=mon'"
      ]
     },
     "execution_count": 63,
     "metadata": {},
     "output_type": "execute_result"
    }
   ],
   "source": [
    "\"https://comic.naver.com\"+link"
   ]
  },
  {
   "cell_type": "code",
   "execution_count": 65,
   "id": "5c5ca0d2-7721-4afd-b861-c1132aefb52a",
   "metadata": {},
   "outputs": [
    {
     "name": "stdout",
     "output_type": "stream",
     "text": [
      "54화 https://comic.naver.com/webtoon/detail?titleId=758666&no=54&weekday=mon\n",
      "53화 https://comic.naver.com/webtoon/detail?titleId=758666&no=53&weekday=mon\n",
      "52화 https://comic.naver.com/webtoon/detail?titleId=758666&no=52&weekday=mon\n",
      "51화 https://comic.naver.com/webtoon/detail?titleId=758666&no=51&weekday=mon\n",
      "50화 https://comic.naver.com/webtoon/detail?titleId=758666&no=50&weekday=mon\n",
      "49화 https://comic.naver.com/webtoon/detail?titleId=758666&no=49&weekday=mon\n",
      "48화 https://comic.naver.com/webtoon/detail?titleId=758666&no=48&weekday=mon\n",
      "47화 https://comic.naver.com/webtoon/detail?titleId=758666&no=47&weekday=mon\n",
      "46화 https://comic.naver.com/webtoon/detail?titleId=758666&no=46&weekday=mon\n",
      "45화 https://comic.naver.com/webtoon/detail?titleId=758666&no=45&weekday=mon\n"
     ]
    }
   ],
   "source": [
    "# 만화 제목 + 링크 가져오기\n",
    "for cartoon in cartoons:\n",
    "    title = cartoon.a.get_text()\n",
    "    link = \"https://comic.naver.com\" + cartoon.a[\"href\"]\n",
    "    print(title,link)"
   ]
  },
  {
   "cell_type": "code",
   "execution_count": 71,
   "id": "a04c3b3d-15ff-48dd-aad4-aa99b0d8a780",
   "metadata": {},
   "outputs": [],
   "source": [
    "# 평점 구하기\n",
    "cartoons = soup.find_all(\"div\",attrs={\"class\":\"rating_type\"})"
   ]
  },
  {
   "cell_type": "code",
   "execution_count": 75,
   "id": "9c00e727-4a97-429c-9c3f-e343852655e3",
   "metadata": {},
   "outputs": [
    {
     "name": "stdout",
     "output_type": "stream",
     "text": [
      "9.93\n",
      "9.92\n",
      "9.86\n",
      "9.93\n",
      "9.93\n",
      "9.91\n",
      "9.92\n",
      "9.93\n",
      "9.93\n",
      "9.88\n",
      "전체 점수 :  99.14000000000001\n",
      "평균 점수 :  9.914000000000001\n"
     ]
    }
   ],
   "source": [
    "total_rates = 0\n",
    "for cartoon in cartoons:\n",
    "    rate = cartoon.find(\"strong\").get_text()\n",
    "    print(rate)\n",
    "    total_rates += float(rate)\n",
    "print(\"전체 점수 : \", total_rates)\n",
    "print(\"평균 점수 : \", total_rates / len(cartoons))"
   ]
  },
  {
   "cell_type": "code",
   "execution_count": null,
   "id": "86356868-6816-4c57-898f-6051ae2984cc",
   "metadata": {},
   "outputs": [],
   "source": []
  }
 ],
 "metadata": {
  "kernelspec": {
   "display_name": "Python 3 (ipykernel)",
   "language": "python",
   "name": "python3"
  },
  "language_info": {
   "codemirror_mode": {
    "name": "ipython",
    "version": 3
   },
   "file_extension": ".py",
   "mimetype": "text/x-python",
   "name": "python",
   "nbconvert_exporter": "python",
   "pygments_lexer": "ipython3",
   "version": "3.8.13"
  },
  "toc": {
   "base_numbering": 1,
   "nav_menu": {},
   "number_sections": false,
   "sideBar": true,
   "skip_h1_title": false,
   "title_cell": "Table of Contents",
   "title_sidebar": "Contents",
   "toc_cell": false,
   "toc_position": {},
   "toc_section_display": true,
   "toc_window_display": false
  }
 },
 "nbformat": 4,
 "nbformat_minor": 5
}
